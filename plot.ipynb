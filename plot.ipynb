{
 "cells": [
  {
   "cell_type": "code",
   "execution_count": 1,
   "metadata": {},
   "outputs": [],
   "source": [
    "import pandas as pd\n",
    "\n",
    "# Conversion rates used in this calculation (approximate, for current time)\n",
    "KRW_to_TWD = 0.024  # 1 KRW = 0.024 TWD\n",
    "# Data for conversion\n",
    "him_data = {\n",
    "    \"2021\": [699.95, 130.24, 6.39],\n",
    "    \"2022\": [672.35, 208.48, 16.54],\n",
    "    \"2023\": [635.78, 550.46, 12.28]\n",
    "}\n",
    "\n",
    "cube_data = {\n",
    "    \"2021\": [32.14, 3.60],\n",
    "    \"2022\": [60.09, 4.47],\n",
    "    \"2023\": [80.65, 4.62]\n",
    "}\n",
    "\n",
    "jyp_data = {\n",
    "    \"2021\": [189.35, 4.55],\n",
    "    \"2022\": [314.99, 23.61, 7.29],\n",
    "    \"2023\": [491.35, 60.91, 14.25]\n",
    "}\n",
    "\n",
    "hybe_data = {\n",
    "    \"2021\": 699.55,\n",
    "    \"2022\": 774.98,\n",
    "    \"2023\": 980.30\n",
    "}\n",
    "\n",
    "sm_data = {\n",
    "    \"2021\": 606.80,\n",
    "    \"2022\": 728.39,\n",
    "    \"2023\": 867.01\n",
    "}\n",
    "\n",
    "yg_data = {\n",
    "    \"2021\": 356.85,\n",
    "    \"2022\": 439.90,\n",
    "    \"2023\": 653.38\n",
    "}"
   ]
  },
  {
   "cell_type": "code",
   "execution_count": 2,
   "metadata": {},
   "outputs": [],
   "source": [
    "\n",
    "# Convert KRW data to TWD\n",
    "cube_twd = {year: sum(value * KRW_to_TWD * 1000 for value in data) for year, data in cube_data.items()}\n",
    "jyp_twd = {year: sum(value * KRW_to_TWD * 1000 for value in data) for year, data in jyp_data.items()}\n",
    "hybe_twd = {year: hybe_data[year] * KRW_to_TWD * 1000 for year in hybe_data}\n",
    "sm_twd = {year: sm_data[year] * KRW_to_TWD * 1000 for year in sm_data}\n",
    "him_twd = {year: sum(value for value in data) for year, data in him_data.items()} \n",
    "yg_twd = {year: yg_data[year] * KRW_to_TWD * 1000 for year in yg_data}\n",
    "\n",
    "# Create a DataFrame\n",
    "data_dict = {\n",
    "    \"Year\": list(cube_twd.keys()),\n",
    "    \"HYBE (1M TWD)\": list(hybe_twd.values()),\n",
    "    \"SM (1M TWD)\": list(sm_twd.values()),\n",
    "    \"YG (1M TWD)\": list(yg_twd.values()),\n",
    "    \"JYP (1M TWD)\": list(jyp_twd.values()),\n",
    "    \"Cube (1M TWD)\": list(cube_twd.values()),\n",
    "    \"HIM (1M TWD)\": list(him_twd.values()),\n",
    "}\n",
    "\n",
    "df = pd.DataFrame(data_dict)"
   ]
  },
  {
   "cell_type": "code",
   "execution_count": 4,
   "metadata": {},
   "outputs": [
    {
     "data": {
      "image/png": "[encoded data removed]",
      "text/plain": [
       "<Figure size 1000x600 with 1 Axes>"
      ]
     },
     "metadata": {},
     "output_type": "display_data"
    },
    {
     "name": "stderr",
     "output_type": "stream",
     "text": [
      "MovieWriter ffmpeg unavailable; using Pillow instead.\n"
     ]
    },
    {
     "ename": "IndexError",
     "evalue": "list index out of range",
     "output_type": "error",
     "traceback": [
      "\u001b[1;31m---------------------------------------------------------------------------\u001b[0m",
      "\u001b[1;31mValueError\u001b[0m                                Traceback (most recent call last)",
      "File \u001b[1;32mc:\\Users\\david\\anaconda3\\Lib\\site-packages\\matplotlib\\animation.py:243\u001b[0m, in \u001b[0;36mAbstractMovieWriter.saving\u001b[1;34m(self, fig, outfile, dpi, *args, **kwargs)\u001b[0m\n\u001b[0;32m    242\u001b[0m \u001b[39mtry\u001b[39;00m:\n\u001b[1;32m--> 243\u001b[0m     \u001b[39myield\u001b[39;00m \u001b[39mself\u001b[39m\n\u001b[0;32m    244\u001b[0m \u001b[39mfinally\u001b[39;00m:\n",
      "File \u001b[1;32mc:\\Users\\david\\anaconda3\\Lib\\site-packages\\matplotlib\\animation.py:1092\u001b[0m, in \u001b[0;36mAnimation.save\u001b[1;34m(self, filename, writer, fps, dpi, codec, bitrate, extra_args, metadata, extra_anim, savefig_kwargs, progress_callback)\u001b[0m\n\u001b[0;32m   1091\u001b[0m \u001b[39mfor\u001b[39;00m anim \u001b[39min\u001b[39;00m all_anim:\n\u001b[1;32m-> 1092\u001b[0m     anim\u001b[39m.\u001b[39m_init_draw()  \u001b[39m# Clear the initial frame\u001b[39;00m\n\u001b[0;32m   1093\u001b[0m frame_number \u001b[39m=\u001b[39m \u001b[39m0\u001b[39m\n",
      "File \u001b[1;32mc:\\Users\\david\\anaconda3\\Lib\\site-packages\\matplotlib\\animation.py:1751\u001b[0m, in \u001b[0;36mFuncAnimation._init_draw\u001b[1;34m(self)\u001b[0m\n\u001b[0;32m   1750\u001b[0m \u001b[39melse\u001b[39;00m:\n\u001b[1;32m-> 1751\u001b[0m     \u001b[39mself\u001b[39m\u001b[39m.\u001b[39m_drawn_artists \u001b[39m=\u001b[39m \u001b[39mself\u001b[39m\u001b[39m.\u001b[39m_init_func()\n\u001b[0;32m   1752\u001b[0m     \u001b[39mif\u001b[39;00m \u001b[39mself\u001b[39m\u001b[39m.\u001b[39m_blit:\n",
      "\u001b[1;32md:\\shared\\桌面\\tt.ipynb 儲存格 3\u001b[0m line \u001b[0;36m3\n\u001b[0;32m     <a href='vscode-notebook-cell:/d%3A/shared/%E6%A1%8C%E9%9D%A2/tt.ipynb#X10sZmlsZQ%3D%3D?line=36'>37</a>\u001b[0m ax\u001b[39m.\u001b[39mset_ylabel(\u001b[39m'\u001b[39m\u001b[39mRevenue (TWD in Millions)\u001b[39m\u001b[39m'\u001b[39m)\n\u001b[1;32m---> <a href='vscode-notebook-cell:/d%3A/shared/%E6%A1%8C%E9%9D%A2/tt.ipynb#X10sZmlsZQ%3D%3D?line=37'>38</a>\u001b[0m ax\u001b[39m.\u001b[39mset_xticks(df[\u001b[39m'\u001b[39m\u001b[39mYear\u001b[39m\u001b[39m'\u001b[39m], fontsize\u001b[39m=\u001b[39m\u001b[39m12\u001b[39m)\n\u001b[0;32m     <a href='vscode-notebook-cell:/d%3A/shared/%E6%A1%8C%E9%9D%A2/tt.ipynb#X10sZmlsZQ%3D%3D?line=38'>39</a>\u001b[0m ax\u001b[39m.\u001b[39mgrid(\u001b[39mTrue\u001b[39;00m)\n",
      "File \u001b[1;32mc:\\Users\\david\\anaconda3\\Lib\\site-packages\\matplotlib\\axes\\_base.py:73\u001b[0m, in \u001b[0;36m_axis_method_wrapper.__set_name__.<locals>.wrapper\u001b[1;34m(self, *args, **kwargs)\u001b[0m\n\u001b[0;32m     72\u001b[0m \u001b[39mdef\u001b[39;00m \u001b[39mwrapper\u001b[39m(\u001b[39mself\u001b[39m, \u001b[39m*\u001b[39margs, \u001b[39m*\u001b[39m\u001b[39m*\u001b[39mkwargs):\n\u001b[1;32m---> 73\u001b[0m     \u001b[39mreturn\u001b[39;00m get_method(\u001b[39mself\u001b[39m)(\u001b[39m*\u001b[39margs, \u001b[39m*\u001b[39m\u001b[39m*\u001b[39mkwargs)\n",
      "File \u001b[1;32mc:\\Users\\david\\anaconda3\\Lib\\site-packages\\matplotlib\\axis.py:2134\u001b[0m, in \u001b[0;36mAxis.set_ticks\u001b[1;34m(self, ticks, labels, minor, **kwargs)\u001b[0m\n\u001b[0;32m   2133\u001b[0m     first_key \u001b[39m=\u001b[39m \u001b[39mnext\u001b[39m(\u001b[39miter\u001b[39m(kwargs))\n\u001b[1;32m-> 2134\u001b[0m     \u001b[39mraise\u001b[39;00m \u001b[39mValueError\u001b[39;00m(\n\u001b[0;32m   2135\u001b[0m         \u001b[39mf\u001b[39m\u001b[39m\"\u001b[39m\u001b[39mIncorrect use of keyword argument \u001b[39m\u001b[39m{\u001b[39;00mfirst_key\u001b[39m!r}\u001b[39;00m\u001b[39m. Keyword arguments \u001b[39m\u001b[39m\"\u001b[39m\n\u001b[0;32m   2136\u001b[0m         \u001b[39m\"\u001b[39m\u001b[39mother than \u001b[39m\u001b[39m'\u001b[39m\u001b[39mminor\u001b[39m\u001b[39m'\u001b[39m\u001b[39m modify the text labels and can only be used if \u001b[39m\u001b[39m\"\u001b[39m\n\u001b[0;32m   2137\u001b[0m         \u001b[39m\"\u001b[39m\u001b[39m'\u001b[39m\u001b[39mlabels\u001b[39m\u001b[39m'\u001b[39m\u001b[39m are passed as well.\u001b[39m\u001b[39m\"\u001b[39m)\n\u001b[0;32m   2138\u001b[0m result \u001b[39m=\u001b[39m \u001b[39mself\u001b[39m\u001b[39m.\u001b[39m_set_tick_locations(ticks, minor\u001b[39m=\u001b[39mminor)\n",
      "\u001b[1;31mValueError\u001b[0m: Incorrect use of keyword argument 'fontsize'. Keyword arguments other than 'minor' modify the text labels and can only be used if 'labels' are passed as well.",
      "\nDuring handling of the above exception, another exception occurred:\n",
      "\u001b[1;31mIndexError\u001b[0m                                Traceback (most recent call last)",
      "\u001b[1;32md:\\shared\\桌面\\tt.ipynb 儲存格 3\u001b[0m line \u001b[0;36m5\n\u001b[0;32m     <a href='vscode-notebook-cell:/d%3A/shared/%E6%A1%8C%E9%9D%A2/tt.ipynb#X10sZmlsZQ%3D%3D?line=52'>53</a>\u001b[0m \u001b[39m# Show the animation\u001b[39;00m\n\u001b[0;32m     <a href='vscode-notebook-cell:/d%3A/shared/%E6%A1%8C%E9%9D%A2/tt.ipynb#X10sZmlsZQ%3D%3D?line=53'>54</a>\u001b[0m plt\u001b[39m.\u001b[39mshow()\n\u001b[1;32m---> <a href='vscode-notebook-cell:/d%3A/shared/%E6%A1%8C%E9%9D%A2/tt.ipynb#X10sZmlsZQ%3D%3D?line=55'>56</a>\u001b[0m ani\u001b[39m.\u001b[39msave(\u001b[39m'\u001b[39m\u001b[39mcompany_revenue_animation.gif\u001b[39m\u001b[39m'\u001b[39m, fps\u001b[39m=\u001b[39m\u001b[39m1\u001b[39m)\n",
      "File \u001b[1;32mc:\\Users\\david\\anaconda3\\Lib\\site-packages\\matplotlib\\animation.py:1089\u001b[0m, in \u001b[0;36mAnimation.save\u001b[1;34m(self, filename, writer, fps, dpi, codec, bitrate, extra_args, metadata, extra_anim, savefig_kwargs, progress_callback)\u001b[0m\n\u001b[0;32m   1085\u001b[0m savefig_kwargs[\u001b[39m'\u001b[39m\u001b[39mtransparent\u001b[39m\u001b[39m'\u001b[39m] \u001b[39m=\u001b[39m \u001b[39mFalse\u001b[39;00m   \u001b[39m# just to be safe!\u001b[39;00m\n\u001b[0;32m   1086\u001b[0m \u001b[39m# canvas._is_saving = True makes the draw_event animation-starting\u001b[39;00m\n\u001b[0;32m   1087\u001b[0m \u001b[39m# callback a no-op; canvas.manager = None prevents resizing the GUI\u001b[39;00m\n\u001b[0;32m   1088\u001b[0m \u001b[39m# widget (both are likewise done in savefig()).\u001b[39;00m\n\u001b[1;32m-> 1089\u001b[0m \u001b[39mwith\u001b[39;00m writer\u001b[39m.\u001b[39msaving(\u001b[39mself\u001b[39m\u001b[39m.\u001b[39m_fig, filename, dpi), \\\n\u001b[0;32m   1090\u001b[0m      cbook\u001b[39m.\u001b[39m_setattr_cm(\u001b[39mself\u001b[39m\u001b[39m.\u001b[39m_fig\u001b[39m.\u001b[39mcanvas, _is_saving\u001b[39m=\u001b[39m\u001b[39mTrue\u001b[39;00m, manager\u001b[39m=\u001b[39m\u001b[39mNone\u001b[39;00m):\n\u001b[0;32m   1091\u001b[0m     \u001b[39mfor\u001b[39;00m anim \u001b[39min\u001b[39;00m all_anim:\n\u001b[0;32m   1092\u001b[0m         anim\u001b[39m.\u001b[39m_init_draw()  \u001b[39m# Clear the initial frame\u001b[39;00m\n",
      "File \u001b[1;32mc:\\Users\\david\\anaconda3\\Lib\\contextlib.py:158\u001b[0m, in \u001b[0;36m_GeneratorContextManager.__exit__\u001b[1;34m(self, typ, value, traceback)\u001b[0m\n\u001b[0;32m    156\u001b[0m     value \u001b[39m=\u001b[39m typ()\n\u001b[0;32m    157\u001b[0m \u001b[39mtry\u001b[39;00m:\n\u001b[1;32m--> 158\u001b[0m     \u001b[39mself\u001b[39m\u001b[39m.\u001b[39mgen\u001b[39m.\u001b[39mthrow(value)\n\u001b[0;32m    159\u001b[0m \u001b[39mexcept\u001b[39;00m \u001b[39mStopIteration\u001b[39;00m \u001b[39mas\u001b[39;00m exc:\n\u001b[0;32m    160\u001b[0m     \u001b[39m# Suppress StopIteration *unless* it's the same exception that\u001b[39;00m\n\u001b[0;32m    161\u001b[0m     \u001b[39m# was passed to throw().  This prevents a StopIteration\u001b[39;00m\n\u001b[0;32m    162\u001b[0m     \u001b[39m# raised inside the \"with\" statement from being suppressed.\u001b[39;00m\n\u001b[0;32m    163\u001b[0m     \u001b[39mreturn\u001b[39;00m exc \u001b[39mis\u001b[39;00m \u001b[39mnot\u001b[39;00m value\n",
      "File \u001b[1;32mc:\\Users\\david\\anaconda3\\Lib\\site-packages\\matplotlib\\animation.py:245\u001b[0m, in \u001b[0;36mAbstractMovieWriter.saving\u001b[1;34m(self, fig, outfile, dpi, *args, **kwargs)\u001b[0m\n\u001b[0;32m    243\u001b[0m     \u001b[39myield\u001b[39;00m \u001b[39mself\u001b[39m\n\u001b[0;32m    244\u001b[0m \u001b[39mfinally\u001b[39;00m:\n\u001b[1;32m--> 245\u001b[0m     \u001b[39mself\u001b[39m\u001b[39m.\u001b[39mfinish()\n",
      "File \u001b[1;32mc:\\Users\\david\\anaconda3\\Lib\\site-packages\\matplotlib\\animation.py:515\u001b[0m, in \u001b[0;36mPillowWriter.finish\u001b[1;34m(self)\u001b[0m\n\u001b[0;32m    514\u001b[0m \u001b[39mdef\u001b[39;00m \u001b[39mfinish\u001b[39m(\u001b[39mself\u001b[39m):\n\u001b[1;32m--> 515\u001b[0m     \u001b[39mself\u001b[39m\u001b[39m.\u001b[39m_frames[\u001b[39m0\u001b[39m]\u001b[39m.\u001b[39msave(\n\u001b[0;32m    516\u001b[0m         \u001b[39mself\u001b[39m\u001b[39m.\u001b[39moutfile, save_all\u001b[39m=\u001b[39m\u001b[39mTrue\u001b[39;00m, append_images\u001b[39m=\u001b[39m\u001b[39mself\u001b[39m\u001b[39m.\u001b[39m_frames[\u001b[39m1\u001b[39m:],\n\u001b[0;32m    517\u001b[0m         duration\u001b[39m=\u001b[39m\u001b[39mint\u001b[39m(\u001b[39m1000\u001b[39m \u001b[39m/\u001b[39m \u001b[39mself\u001b[39m\u001b[39m.\u001b[39mfps), loop\u001b[39m=\u001b[39m\u001b[39m0\u001b[39m)\n",
      "\u001b[1;31mIndexError\u001b[0m: list index out of range"
     ]
    }
   ],
   "source": [
    "from matplotlib.animation import FuncAnimation\n",
    "import pandas as pd\n",
    "import matplotlib.pyplot as plt\n",
    "import matplotlib.font_manager as fm\n",
    "\n",
    "# 設定標楷體字體\n",
    "font_path = 'C:/Windows/Fonts/msjh.ttc'  # Windows的標楷體路徑\n",
    "font_prop = fm.FontProperties(fname=font_path)\n",
    "\n",
    "# Create a DataFrame\n",
    "data_dict = {\n",
    "    \"Year\": list(cube_twd.keys()),\n",
    "    \"HYBE (1M TWD)\": list(hybe_twd.values()),\n",
    "    \"SM (1M TWD)\": list(sm_twd.values()),\n",
    "    \"YG (1M TWD)\": list(yg_twd.values()),\n",
    "    \"JYP (1M TWD)\": list(jyp_twd.values()),\n",
    "    \"Cube (1M TWD)\": list(cube_twd.values()),\n",
    "    \"華研 (1M TWD)\": list(him_twd.values()),\n",
    "}\n",
    "\n",
    "df = pd.DataFrame(data_dict)\n",
    "\n",
    "# Convert Year to numeric\n",
    "df['Year'] = pd.to_numeric(df['Year'])\n",
    "\n",
    "# Set up the figure and axis\n",
    "fig, ax = plt.subplots(figsize=(10, 6))\n",
    "\n",
    "colors = ['royalblue', 'orange', 'tomato', 'mediumseagreen', 'violet', 'gold']\n",
    "labels = ['HYBE (1M TWD)', 'SM (1M TWD)', 'YG (1M TWD)', 'JYP (1M TWD)', 'Cube (1M TWD)', '華研 (1M TWD)']\n",
    "\n",
    "# Function to initialize the animation\n",
    "def init():\n",
    "    ax.clear()\n",
    "    ax.set_title('Six Entertainment Companies Revenue Comparison (TWD in Millions)')\n",
    "    ax.set_xlabel('Year')\n",
    "    ax.set_ylabel('Revenue (TWD in Millions)')\n",
    "    ax.set_xticks(df['Year'], fontsize=12)\n",
    "    ax.grid(True)\n",
    "\n",
    "# Animation function\n",
    "def animate(i):\n",
    "    ax.clear()\n",
    "    init()\n",
    "    for j in range(i + 1):\n",
    "        ax.fill_between(df['Year'], df[labels[j]], label=labels[j], color=colors[j], alpha=0.7)\n",
    "\n",
    "    ax.legend(loc='upper left', prop=font_prop)\n",
    "\n",
    "# Create the animation\n",
    "ani = FuncAnimation(fig, animate, frames=len(labels), init_func=init, repeat=False, interval=1000)\n",
    "\n",
    "# Show the animation\n",
    "plt.show()\n",
    "\n",
    "ani.save('company_revenue_animation.gif', fps=1)\n"
   ]
  }
 ],
 "metadata": {
  "kernelspec": {
   "display_name": "base",
   "language": "python",
   "name": "python3"
  },
  "language_info": {
   "codemirror_mode": {
    "name": "ipython",
    "version": 3
   },
   "file_extension": ".py",
   "mimetype": "text/x-python",
   "name": "python",
   "nbconvert_exporter": "python",
   "pygments_lexer": "ipython3",
   "version": "3.12.4"
  }
 },
 "nbformat": 4,
 "nbformat_minor": 2
}
